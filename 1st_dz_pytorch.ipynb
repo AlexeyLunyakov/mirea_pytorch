{
  "nbformat": 4,
  "nbformat_minor": 0,
  "metadata": {
    "colab": {
      "provenance": [],
      "authorship_tag": "ABX9TyOswWcFjYJJTzl9MJrTNsGx",
      "include_colab_link": true
    },
    "kernelspec": {
      "name": "python3",
      "display_name": "Python 3"
    },
    "language_info": {
      "name": "python"
    }
  },
  "cells": [
    {
      "cell_type": "markdown",
      "metadata": {
        "id": "view-in-github",
        "colab_type": "text"
      },
      "source": [
        "<a href=\"https://colab.research.google.com/github/AlexeyLunyakov/mirea_pytorch_hw/blob/main/1st_dz_pytorch.ipynb\" target=\"_parent\"><img src=\"https://colab.research.google.com/assets/colab-badge.svg\" alt=\"Open In Colab\"/></a>"
      ]
    },
    {
      "cell_type": "markdown",
      "source": [
        "# **Домашнее задание.**\n",
        "\n",
        "### Первый номер:"
      ],
      "metadata": {
        "id": "7zKC9mMXmGVz"
      }
    },
    {
      "cell_type": "markdown",
      "source": [
        "*Импортируем библиотеки:*"
      ],
      "metadata": {
        "id": "3AGTx17gmU_n"
      }
    },
    {
      "cell_type": "code",
      "execution_count": 11,
      "metadata": {
        "id": "SfAyMK68iJPH"
      },
      "outputs": [],
      "source": [
        "import numpy as np\n",
        "import torch"
      ]
    },
    {
      "cell_type": "markdown",
      "source": [
        "*Создаем модель, наследуя класс neuron от базового nn.Module*"
      ],
      "metadata": {
        "id": "So2sW8zN2F7e"
      }
    },
    {
      "cell_type": "code",
      "source": [
        "class neuron(torch.nn.Module):\n",
        "  # Определили скелет архитектуры:\n",
        "  def __init__(self, weights, bias):\n",
        "    super().__init__()  \n",
        "    self.weight = weights\n",
        "    self.bias = bias  \n",
        "  # Задаем принципы перемещения данных в ней: (через определяемый метод forward)\n",
        "  def forward(self, x: torch.Tensor):\n",
        "    return 1.0 if (self.weight @ torch.transpose(x, 0, 1) + self.bias).item() > 0 else 0.0"
      ],
      "metadata": {
        "id": "6Sw2iCAZiodt"
      },
      "execution_count": 44,
      "outputs": []
    },
    {
      "cell_type": "markdown",
      "source": [
        "*Создаем три нейрона (экземляра структуры)*"
      ],
      "metadata": {
        "id": "hF1tZmoh24HV"
      }
    },
    {
      "cell_type": "code",
      "source": [
        "neur1 = neuron(torch.Tensor([[1, 1]]), -0.5)\n",
        "neur2 = neuron(torch.Tensor([[1, -1]]), -0.5)\n",
        "neur3 = neuron(torch.Tensor([[-1, 1]]), -0.5)\n",
        "\n",
        "print(\"Таблица истинности XOR для двух переменных: \\n\")\n",
        "# Проходим в цикле по переменным и выводим ТИ XOR\n",
        "for i in range(2):\n",
        "    for k in range(2):\n",
        "      print(\"i:\", i, \"k:\", k, \" res:\", neur1(torch.Tensor([[neur3(torch.Tensor([[i, k]])), neur2(torch.Tensor([[i, k]]))]])))"
      ],
      "metadata": {
        "colab": {
          "base_uri": "https://localhost:8080/"
        },
        "id": "ftPhIOXkisgk",
        "outputId": "fa9e60e9-5b90-4c9b-b2bc-2e01763e1e2d"
      },
      "execution_count": 45,
      "outputs": [
        {
          "output_type": "stream",
          "name": "stdout",
          "text": [
            "Таблица истинности XOR для двух переменных: \n",
            "\n",
            "i: 0 k: 0  res: 0.0\n",
            "i: 0 k: 1  res: 1.0\n",
            "i: 1 k: 0  res: 1.0\n",
            "i: 1 k: 1  res: 0.0\n"
          ]
        }
      ]
    }
  ]
}