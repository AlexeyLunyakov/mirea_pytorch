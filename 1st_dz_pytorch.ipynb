{
  "nbformat": 4,
  "nbformat_minor": 0,
  "metadata": {
    "colab": {
      "provenance": [],
      "authorship_tag": "ABX9TyOBQDmN4tVAXj4IXZR+9YlH",
      "include_colab_link": true
    },
    "kernelspec": {
      "name": "python3",
      "display_name": "Python 3"
    },
    "language_info": {
      "name": "python"
    }
  },
  "cells": [
    {
      "cell_type": "markdown",
      "metadata": {
        "id": "view-in-github",
        "colab_type": "text"
      },
      "source": [
        "<a href=\"https://colab.research.google.com/github/AlexeyLunyakov/mirea_pytorch_hw/blob/main/1st_dz_pytorch.ipynb\" target=\"_parent\"><img src=\"https://colab.research.google.com/assets/colab-badge.svg\" alt=\"Open In Colab\"/></a>"
      ]
    },
    {
      "cell_type": "markdown",
      "source": [
        "# **Домашнее задание.**\n",
        "\n",
        "### Первый номер:"
      ],
      "metadata": {
        "id": "7zKC9mMXmGVz"
      }
    },
    {
      "cell_type": "markdown",
      "source": [
        "*Импортируем библиотеки:*"
      ],
      "metadata": {
        "id": "3AGTx17gmU_n"
      }
    },
    {
      "cell_type": "code",
      "execution_count": 11,
      "metadata": {
        "id": "SfAyMK68iJPH"
      },
      "outputs": [],
      "source": [
        "import numpy as np\n",
        "import torch"
      ]
    },
    {
      "cell_type": "markdown",
      "source": [
        "\n",
        "*Создаем класс нейрона:*"
      ],
      "metadata": {
        "id": "Pu69mmLBmtRe"
      }
    },
    {
      "cell_type": "code",
      "source": [
        "class neuron(torch.nn.Module):\n",
        "  def __init__(self, weights, bias):\n",
        "    super().__init__()  \n",
        "    self.weight = weights\n",
        "    self.bias = bias\n",
        "\n",
        "  def forward(self, x: torch.tensor):\n",
        "    return 1.0 if (self.weight @ torch.transpose(x, 0, 1) + self.bias).item() > 0 else 0.0"
      ],
      "metadata": {
        "id": "6Sw2iCAZiodt"
      },
      "execution_count": 12,
      "outputs": []
    },
    {
      "cell_type": "markdown",
      "source": [
        "*Инициализуем три нейрона:*"
      ],
      "metadata": {
        "id": "piEwxTsrnlLh"
      }
    },
    {
      "cell_type": "code",
      "source": [
        "neur1 = neuron(torch.Tensor([[1, 1]]), -0.5)\n",
        "neur2 = neuron(torch.Tensor([[1, -1]]), -0.5)\n",
        "neur3 = neuron(torch.Tensor([[-1, 1]]), -0.5)\n",
        "x1, x2 = map(int, input(\"Введите 2 булевых числа: \\n\").split())\n",
        "print(\"\\nXOR введенных значений: \")\n",
        "print(neuron1(torch.Tensor([[neuron1(torch.Tensor([[x1, x2]])), neuron2(torch.Tensor([[x1, x2]]))]])))"
      ],
      "metadata": {
        "colab": {
          "base_uri": "https://localhost:8080/"
        },
        "id": "ftPhIOXkisgk",
        "outputId": "c78e718f-fe05-4470-b935-672f6a1fdec9"
      },
      "execution_count": 17,
      "outputs": [
        {
          "output_type": "stream",
          "name": "stdout",
          "text": [
            "Введите 2 булевых числа: \n",
            "1 0\n",
            "XOR введенных значений: \n",
            "1.0\n"
          ]
        }
      ]
    }
  ]
}