{
  "nbformat": 4,
  "nbformat_minor": 0,
  "metadata": {
    "colab": {
      "provenance": [],
      "authorship_tag": "ABX9TyOG7ncA2eNMuWLOPBLuAsCY",
      "include_colab_link": true
    },
    "kernelspec": {
      "name": "python3",
      "display_name": "Python 3"
    },
    "language_info": {
      "name": "python"
    }
  },
  "cells": [
    {
      "cell_type": "markdown",
      "metadata": {
        "id": "view-in-github",
        "colab_type": "text"
      },
      "source": [
        "<a href=\"https://colab.research.google.com/github/AlexeyLunyakov/mirea_pytorch_hw/blob/main/Pr_tasks_1_pytorch.ipynb\" target=\"_parent\"><img src=\"https://colab.research.google.com/assets/colab-badge.svg\" alt=\"Open In Colab\"/></a>"
      ]
    },
    {
      "cell_type": "markdown",
      "source": [
        "# **Практические задания.**\n",
        "\n"
      ],
      "metadata": {
        "id": "MHdNupr_qYsc"
      }
    },
    {
      "cell_type": "code",
      "source": [
        "import numpy as np\n",
        "import torch"
      ],
      "metadata": {
        "id": "vrtJHml7sX11"
      },
      "execution_count": 31,
      "outputs": []
    },
    {
      "cell_type": "markdown",
      "source": [
        "### ***Задача 2. Cделать нейрон, соответствующий оператору НЕ.***"
      ],
      "metadata": {
        "id": "8VsOhOIGqptD"
      }
    },
    {
      "cell_type": "code",
      "execution_count": 43,
      "metadata": {
        "colab": {
          "base_uri": "https://localhost:8080/"
        },
        "id": "Uf_oWmX-pxii",
        "outputId": "7f8d5e4a-b2fd-4630-e7b8-b7a4d9b5a1b2"
      },
      "outputs": [
        {
          "output_type": "stream",
          "name": "stdout",
          "text": [
            "Отрицание для 0 ->  1\n",
            "Отрицание для 1 ->  0\n"
          ]
        }
      ],
      "source": [
        "class neuron_not:\n",
        "    def __init__(self, weight, bias):\n",
        "        self.weight = weight\n",
        "        self.bias = bias\n",
        "        \n",
        "    def forward(self, x):\n",
        "        total = self.bias + self.weight * x\n",
        "        return 0 if total <= 0 else 1\n",
        "    \n",
        "neur_not = neuron_not(-1, 1)\n",
        "for i in range (2):\n",
        "    print(\"Отрицание для\", i, \"-> \", neur_not.forward(i))\n"
      ]
    },
    {
      "cell_type": "markdown",
      "source": [
        "*Класс Нейрона для 3 и 4 задания:*"
      ],
      "metadata": {
        "id": "BuibLskkrruk"
      }
    },
    {
      "cell_type": "code",
      "source": [
        "class neuron:\n",
        "    def __init__(self, weight: tuple, bias: int):\n",
        "        self.weight = weight\n",
        "        self.bias = bias\n",
        "        \n",
        "    def forward(self, x1, x2):\n",
        "        total = x1 * self.weight[0] + x2 * self.weight[1] + self.bias\n",
        "        return 1 if total > 0 else 0"
      ],
      "metadata": {
        "id": "lXZR2JBhrrM6"
      },
      "execution_count": 33,
      "outputs": []
    },
    {
      "cell_type": "markdown",
      "source": [
        "### ***Задача 3. Cделать нейрон, соответствующий оператору И.***"
      ],
      "metadata": {
        "id": "u92vKUaFq0Qt"
      }
    },
    {
      "cell_type": "code",
      "source": [
        "neur_and = neuron((1, 1), -1)\n",
        "print(\"Таблица истинности для И для двух переменных: \")\n",
        "for i in range(2):\n",
        "    for j in range(2):\n",
        "        print(neur_and.forward(i, j))\n"
      ],
      "metadata": {
        "colab": {
          "base_uri": "https://localhost:8080/"
        },
        "id": "38emGdbSp9fZ",
        "outputId": "9b07ee4b-60bb-4aaa-ce2f-b292ea363621"
      },
      "execution_count": 34,
      "outputs": [
        {
          "output_type": "stream",
          "name": "stdout",
          "text": [
            "Таблица истинности для И: \n",
            "0\n",
            "0\n",
            "0\n",
            "1\n"
          ]
        }
      ]
    },
    {
      "cell_type": "markdown",
      "source": [
        "### ***Задача 4. Cделать нейрон, соответствующий оператору ИЛИ.***"
      ],
      "metadata": {
        "id": "kFK6cC_Cq5RO"
      }
    },
    {
      "cell_type": "code",
      "source": [
        "print(\"Таблица истинности для ИЛИ для двух переменных: \")\n",
        "neur_or = neuron((2, 2), -1)\n",
        "for i in range(2):\n",
        "    for j in range(2):\n",
        "        print(neur_or.forward(i, j))\n",
        "        \n",
        "\n"
      ],
      "metadata": {
        "colab": {
          "base_uri": "https://localhost:8080/"
        },
        "id": "kS3B9OsWr0RD",
        "outputId": "9f4e8b98-1b07-4d8a-ca2c-b0b130954a86"
      },
      "execution_count": 35,
      "outputs": [
        {
          "output_type": "stream",
          "name": "stdout",
          "text": [
            "Таблица истинности для ИЛИ: \n",
            "0\n",
            "1\n",
            "1\n",
            "1\n"
          ]
        }
      ]
    },
    {
      "cell_type": "markdown",
      "source": [
        "### ***Задача 5. Cделать нейрон, соответствующий оператору XOR.***\n",
        "\n"
      ],
      "metadata": {
        "id": "gZOJHEfvs0qR"
      }
    },
    {
      "cell_type": "code",
      "source": [
        "print(\"Таблица истинности XOR для двух переменных: \")\n",
        "tmp = 0\n",
        "for i in range(2):\n",
        "    for j in range(2):\n",
        "        tmp+=1\n",
        "        print(neur_or.forward(neur_and.forward(neur_not.forward(i), j), neur_and.forward(neur_not.forward(j), i)))"
      ],
      "metadata": {
        "colab": {
          "base_uri": "https://localhost:8080/"
        },
        "id": "Y4sJKo9bs84O",
        "outputId": "1b8bc947-4a42-40f4-add7-216d852a5ec1"
      },
      "execution_count": 39,
      "outputs": [
        {
          "output_type": "stream",
          "name": "stdout",
          "text": [
            "Таблица истинности XOR: \n",
            "0\n",
            "1\n",
            "1\n",
            "0\n"
          ]
        }
      ]
    },
    {
      "cell_type": "markdown",
      "source": [
        "//////////////////"
      ],
      "metadata": {
        "id": "ZXQ4-tj9ugbe"
      }
    }
  ]
}